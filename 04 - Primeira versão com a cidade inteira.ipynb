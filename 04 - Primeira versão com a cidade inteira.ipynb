{
 "cells": [
  {
   "cell_type": "markdown",
   "metadata": {},
   "source": [
    "# Gerando polígonos de vias por setor fiscal município de São Paulo\n",
    "\n",
    "Esse notebook tem a intenção de ir um pouco além do último Notebook no sentido de avançar para um processamento viável para a publicação de uma nova camada no [Geosampa](http://geosampa.prefeitura.sp.gov.br/PaginasPublicas/_SBC.aspx) \n",
    "\n",
    "Para isso vamos utilizar as seguintes camadas, recortadas por um setor fiscal definido para testes\n",
    "\n",
    "* [Logradouros](http://geosampa.prefeitura.sp.gov.br/PaginasPublicas/downloadIfr.aspx?orig=DownloadCamadas&arq=05_Sistema%20Vi%E1rio%5C%5CLogradouro%5C%5CShapefile%5C%5CSIRGAS_SHP_logradouronbl&arqTipo=Shapefile)\n",
    "* [Quadras Fiscais](http://geosampa.prefeitura.sp.gov.br/PaginasPublicas/downloadIfr.aspx?orig=DownloadCamadas&arq=11_Cadastro%5C%5CQuadra%5C%5CShapefile%5C%5CSIRGAS_SHP_quadraMDSF&arqTipo=Shapefile)\n",
    "* [Quadras Viárias](http://geosampa.prefeitura.sp.gov.br/PaginasPublicas/downloadIfr.aspx?orig=DownloadCamadas&arq=05_Sistema%20Vi%E1rio%5C%5CQuadra%20Viaria%5C%5CShapefile%5C%5CSIRGAS_SHP_quadraviariaed&arqTipo=Shapefile)\n",
    "\n",
    "Para nossos primeiros experimentos vamos utilizar o setor fiscal de número 037:\n",
    "\n",
    "* [Setores Fiscais](http://geosampa.prefeitura.sp.gov.br/PaginasPublicas/downloadIfr.aspx?orig=DownloadCamadas&arq=11_Cadastro%5C%5CSetor%5C%5CShapefile%5C%5CSIRGAS_SHP_setorfiscal&arqTipo=Shapefile)\n",
    "\n",
    "Os arquivos baixados nos links acima devem ser descompactados e colocados na pas `gis` deste repositório para funcioarem de acordo com os scripts a seguir.\n"
   ]
  },
  {
   "cell_type": "markdown",
   "metadata": {},
   "source": [
    "## Trabalhando com o Geopandas\n",
    "\n",
    "O Geopandas é um projeto de código aberto escrito em Python, possui bastante maturidade, eficácia e performance para trabalhar com grandes quantidade de dados. Ele usa o Pandas, NumPy e Shapely para trabalhar com dados georeferenciados e portanto achamos oportuno usa-lo."
   ]
  },
  {
   "cell_type": "code",
   "execution_count": 1,
   "metadata": {
    "scrolled": false
   },
   "outputs": [],
   "source": [
    "import geopandas as gpd\n",
    "import pandas as pd\n",
    "import matplotlib.pyplot as plt\n",
    "\n",
    "%matplotlib inline\n",
    "\n",
    "plt.rcParams['figure.figsize'] = (40, 30)\n",
    "\n",
    "df_qf = gpd.read_file(f'gis/SIRGAS_SHP_quadraMDSF.shp')\n",
    "df_qv = gpd.read_file(f'gis/SIRGAS_SHP_quadraviariaed_polygon.shp')\n",
    "df_l = gpd.read_file(f'gis/SIRGAS_SHP_logradouronbl.shp')\n",
    "df_s = gpd.read_file(f'gis/SIRGAS_SHP_setorfiscal.shp')"
   ]
  },
  {
   "cell_type": "code",
   "execution_count": 2,
   "metadata": {},
   "outputs": [],
   "source": [
    "# df_s = df_s[df_s.st_codigo == '037']"
   ]
  },
  {
   "cell_type": "code",
   "execution_count": 3,
   "metadata": {},
   "outputs": [],
   "source": [
    "# df_l = gpd.clip(df_l, df_s)"
   ]
  },
  {
   "cell_type": "code",
   "execution_count": 5,
   "metadata": {},
   "outputs": [],
   "source": [
    "df_vias = gpd.overlay(df_s, df_qv, how='difference')"
   ]
  },
  {
   "cell_type": "code",
   "execution_count": 6,
   "metadata": {},
   "outputs": [],
   "source": [
    "df_vias.to_file(\"poligono_de_vias.gpkg\", layer='poligono_de_vias_sem_cortes', driver=\"GPKG\")"
   ]
  },
  {
   "cell_type": "code",
   "execution_count": null,
   "metadata": {},
   "outputs": [],
   "source": [
    "## TODO\n",
    "# Crop nas linhas das vias para manter apenas as que estão dentro de df_vias\n",
    "%time df_l_cropped = gpd.clip(df_l, df_vias)"
   ]
  },
  {
   "cell_type": "code",
   "execution_count": null,
   "metadata": {},
   "outputs": [],
   "source": [
    "df_l = df_l_cropped"
   ]
  },
  {
   "cell_type": "code",
   "execution_count": null,
   "metadata": {},
   "outputs": [],
   "source": [
    "# f, ax = plt.subplots(1)\n",
    "# df_vias.plot(ax=ax, alpha=0.5)\n",
    "# df_l.plot(ax=ax)\n",
    "\n",
    "# plt.show()"
   ]
  },
  {
   "cell_type": "markdown",
   "metadata": {},
   "source": [
    "Obtendo os pontos finais e iniciais de cada logradouro podemos saber onde as ruas começam e terminam"
   ]
  },
  {
   "cell_type": "code",
   "execution_count": null,
   "metadata": {},
   "outputs": [],
   "source": [
    "gdf_cruzamentos_inicio = df_l['geometry'].map(lambda x: (x.interpolate(0, normalized=True)))\n",
    "gdf_cruzamentos_final = df_l['geometry'].map(lambda x: (x.interpolate(1, normalized=True)))\n",
    "gdf_cruzamentos =  pd.concat([gdf_cruzamentos_inicio, gdf_cruzamentos_final])\n",
    "gdf_c = gdf_cruzamentos"
   ]
  },
  {
   "cell_type": "markdown",
   "metadata": {},
   "source": [
    "Como alguns pontos acabam ficando muito próximos, seria interessante agregar todos os pontos do cruzamento."
   ]
  },
  {
   "cell_type": "code",
   "execution_count": null,
   "metadata": {},
   "outputs": [],
   "source": [
    "cruzamentos = [p.centroid for p in gdf_c.buffer(5).unary_union]\n",
    "df_cruzamentos = gpd.GeoDataFrame(geometry=cruzamentos)"
   ]
  },
  {
   "cell_type": "code",
   "execution_count": null,
   "metadata": {},
   "outputs": [],
   "source": [
    "df_pts = gpd.GeoDataFrame(geometry=df_cruzamentos.buffer(10).boundary.intersection(df_l.unary_union))\n",
    "\n",
    "# filtrando somente os multipontos\n",
    "df_cruzamentos = df_cruzamentos[df_pts.geometry.type == 'MultiPoint']\n",
    "df_pts = df_pts[df_pts.geometry.type == 'MultiPoint']"
   ]
  },
  {
   "cell_type": "code",
   "execution_count": null,
   "metadata": {},
   "outputs": [],
   "source": [
    "# unir pontos e o ponto central do cruzamento\n",
    "df_cruzamentos['id'] = df_cruzamentos.index.values\n",
    "df_pts['id'] = df_pts.index.values\n",
    "\n",
    "df_pt_pts = df_cruzamentos.merge(df_pts, on='id', suffixes=('_cruzamento', '_pt'))"
   ]
  },
  {
   "cell_type": "code",
   "execution_count": null,
   "metadata": {},
   "outputs": [],
   "source": [
    "# Calcular o angulo para cada ponto de intersecção\n",
    "# e calcular a mediatriz desse pontos\n",
    "\n",
    "import numpy as np\n",
    "\n",
    "def calc_angulos(i):\n",
    "    c_x, c_y = i.geometry_cruzamento.coords[0]\n",
    "    coords = list(map(lambda x: x.coords[0], i.geometry_pt.geoms))\n",
    "    p_x = np.array(list(map(lambda x: x[0], coords)))\n",
    "    p_y = np.array(list(map(lambda x: x[1], coords)))\n",
    "    delta_x, delta_y = [p_x - c_x, p_y - c_y]\n",
    "    # Colocar os pontos em ordem de angulo\n",
    "    angle = np.sort(np.arctan2(delta_x, delta_y) - 0.5 * np.pi)\n",
    "    angle_normalized = angle / (np.pi * 2) + 0.75\n",
    "    angle_plus = np.append(angle_normalized, 1 + angle_normalized[0:1])\n",
    "    points = angle_normalized + (np.diff(angle_plus) / 2)\n",
    "    points[-1] = points[-1] - 1\n",
    "    return list(points)\n",
    "\n",
    "angles = list(map(lambda x: calc_angulos(x), df_pt_pts.itertuples()))"
   ]
  },
  {
   "cell_type": "code",
   "execution_count": null,
   "metadata": {},
   "outputs": [],
   "source": [
    "df_bounds = gpd.GeoDataFrame(geometry=df_cruzamentos.buffer(10).boundary)\n",
    "df_bounds['angles'] = angles\n",
    "# angles"
   ]
  },
  {
   "cell_type": "code",
   "execution_count": null,
   "metadata": {},
   "outputs": [],
   "source": [
    "from shapely.geometry import MultiPoint\n",
    "\n",
    "inter_points = list(map(\n",
    "    lambda x: MultiPoint(list(map(\n",
    "        lambda y: x.geometry.interpolate(y - 0.75, normalized=True), \n",
    "#         lambda y: x.geometry.interpolate(0.85, normalized=True),\n",
    "        x.angles))), \n",
    "    df_bounds.itertuples()))\n",
    "\n",
    "df_inter_points = gpd.GeoDataFrame(geometry=inter_points)"
   ]
  },
  {
   "cell_type": "code",
   "execution_count": null,
   "metadata": {},
   "outputs": [],
   "source": [
    "# f, ax = plt.subplots(1)\n",
    "# df_vias.plot(ax=ax, alpha=0.4)\n",
    "# df_l.plot(ax=ax)\n",
    "# # df_cruz_buffer.plot(ax=ax, alpha=0.3, color='red')\n",
    "# df_cruzamentos.plot(ax=ax, lw=7, color='black')\n",
    "# df_cruzamentos.buffer(10).plot(ax=ax, alpha=0.3, color='red')\n",
    "# df_bounds.plot(ax=ax)\n",
    "# df_pts.plot(ax=ax, lw=3, color='blue')\n",
    "# df_inter_points.plot(ax=ax, lw=3, color='red')\n",
    "# # Aplicando o zoom\n",
    "# plt.margins(x=-0.30, y=-0.40)\n",
    "\n",
    "# plt.show()"
   ]
  },
  {
   "cell_type": "markdown",
   "metadata": {},
   "source": [
    "## Criando linhas para 'cortar' os polígonos\n",
    "\n",
    "Agora que temos que cortar o polígono precisamos de linhas para realizar esse fatiamento. \n",
    "Primeiramente vamos criar uma intersecção dos buffers dos nós com o traçado dos logradouros"
   ]
  },
  {
   "cell_type": "code",
   "execution_count": null,
   "metadata": {},
   "outputs": [],
   "source": [
    "from shapely.geometry import MultiLineString, LineString\n",
    "from shapely.affinity import scale\n",
    "\n",
    "cut_lines = list(map(lambda x:\n",
    "         scale(\n",
    "             MultiLineString(list(map(lambda y: \n",
    "                  LineString([df_cruzamentos.geometry.iloc[x.Index], y]), \n",
    "                  x.geometry.geoms))),\n",
    "             xfact = 2.0,\n",
    "             yfact = 2.0,\n",
    "             origin = df_cruzamentos.geometry.iloc[x.Index])\n",
    "         , df_inter_points.itertuples()))\n",
    "\n",
    "df_cut_lines = gpd.GeoDataFrame(geometry=cut_lines)\n",
    "# df_cut_lines.plot()"
   ]
  },
  {
   "cell_type": "code",
   "execution_count": null,
   "metadata": {},
   "outputs": [],
   "source": [
    "# f, ax = plt.subplots(1)\n",
    "# df_vias.plot(ax=ax, alpha=0.4, color='grey')\n",
    "# df_l.plot(ax=ax)\n",
    "# # df_cruz_buffer.plot(ax=ax, alpha=0.3, color='red')\n",
    "# # df_vias_para_corte.plot(ax=ax, alpha=0.4, color='orange', linewidth=1, edgecolor='grey')\n",
    "# df_cruzamentos.plot(ax=ax, lw=7, color='black')\n",
    "# df_cruzamentos.buffer(10).plot(ax=ax, alpha=0.3, color='red')\n",
    "# df_bounds.plot(ax=ax)\n",
    "# df_pts.plot(ax=ax, lw=3, color='blue')\n",
    "# df_inter_points.plot(ax=ax, lw=3, color='red')\n",
    "# df_cut_lines.plot(ax=ax, lw=3, color='black')\n",
    "# # df_voronoi_polygon.plot(ax=ax, alpha=0.7, color='yellow', linewidth=1, edgecolor='grey')\n",
    "# # Aplicando o zoom\n",
    "# plt.margins(x=-0.30, y=-0.40)\n",
    "\n",
    "\n",
    "# plt.show()"
   ]
  },
  {
   "cell_type": "code",
   "execution_count": null,
   "metadata": {},
   "outputs": [],
   "source": [
    "from shapely.ops import cascaded_union, polygonize\n",
    "\n",
    "\n",
    "df_vias_cutted = polygonize(cascaded_union([df_cut_lines.geometry.unary_union, list(df_vias.geometry.boundary)[0]]))\n",
    "df_poligonos_de_vias = gpd.GeoDataFrame(geometry = list(df_vias_cutted))\n",
    "\n",
    "# df_poligonos_de_vias.plot(color = np.random.rand(len(df_poligonos_de_vias), 3))\n",
    "\n",
    "df_pvias = df_poligonos_de_vias[df_poligonos_de_vias.geometry.disjoint(df_qvias.geometry.representative_point().geometry.unary_union)]\n",
    "# df_pvias = df_poligonos_de_vias[df_poligonos_de_vias.geometry.crosses(df_l.geometry.unary_union)]\n",
    "\n",
    "# df_pvias.plot(color = np.random.rand(len(df_poligonos_de_vias), 3))\n",
    "\n"
   ]
  },
  {
   "cell_type": "markdown",
   "metadata": {},
   "source": [
    "## Salvando o resultado\n",
    "\n",
    "Agora que temos o polígono de cada via, podemos salvar o resultado para seguir com alguma outra análise como:\n",
    "- Calcular a largura mínima máxima e média de cada via"
   ]
  },
  {
   "cell_type": "code",
   "execution_count": null,
   "metadata": {},
   "outputs": [],
   "source": [
    "df_pvias.to_file(\"poligono_de_vias.gpkg\", layer='poligono_de_vias_total', driver=\"GPKG\")"
   ]
  }
 ],
 "metadata": {
  "kernelspec": {
   "display_name": "Python 3",
   "language": "python",
   "name": "python3"
  },
  "language_info": {
   "codemirror_mode": {
    "name": "ipython",
    "version": 3
   },
   "file_extension": ".py",
   "mimetype": "text/x-python",
   "name": "python",
   "nbconvert_exporter": "python",
   "pygments_lexer": "ipython3",
   "version": "3.8.2"
  }
 },
 "nbformat": 4,
 "nbformat_minor": 2
}
