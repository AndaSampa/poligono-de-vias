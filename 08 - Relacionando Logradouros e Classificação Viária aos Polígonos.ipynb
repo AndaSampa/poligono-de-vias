{
 "cells": [
  {
   "cell_type": "code",
   "execution_count": 125,
   "metadata": {},
   "outputs": [],
   "source": [
    "import geopandas as gpd\n",
    "import pandas as pd\n",
    "from shapely.ops import substring"
   ]
  },
  {
   "cell_type": "code",
   "execution_count": 83,
   "metadata": {},
   "outputs": [],
   "source": [
    "import warnings\n",
    "warnings.filterwarnings('ignore')"
   ]
  },
  {
   "cell_type": "code",
   "execution_count": 2,
   "metadata": {},
   "outputs": [],
   "source": [
    "df_l = gpd.read_file(f'zip://gis/SIRGAS_SHP_logradouronbl.zip!SIRGAS_SHP_logradouronbl/SIRGAS_SHP_logradouronbl.shp')\n",
    "df_class = gpd.read_file(f'zip://gis/SIRGAS_SHP_classeviariacet.zip!SIRGAS_SHP_classeviariacet/SIRGAS_SHP_classeviariacet.shp')\n",
    "df_dist = gpd.read_file(f'zip://gis/SIRGAS_SHP_distrito.zip!SIRGAS_SHP_distrito/SIRGAS_SHP_distrito_polygon.shp')\n"
   ]
  },
  {
   "cell_type": "code",
   "execution_count": 3,
   "metadata": {},
   "outputs": [],
   "source": [
    "df_l.geometry = df_l.geometry.apply(lambda x: substring(x, start_dist=0.10, end_dist=0.90, normalized=True))"
   ]
  },
  {
   "cell_type": "code",
   "execution_count": 71,
   "metadata": {},
   "outputs": [],
   "source": [
    "df_l.loc[:, 'comprimento'] = df_l.geometry.length"
   ]
  },
  {
   "cell_type": "code",
   "execution_count": 4,
   "metadata": {},
   "outputs": [],
   "source": [
    "df_class.geometry = df_class.geometry.apply(lambda x: substring(x, start_dist=0.10, end_dist=0.90, normalized=True))"
   ]
  },
  {
   "cell_type": "code",
   "execution_count": 18,
   "metadata": {},
   "outputs": [],
   "source": [
    "df_l.explore()"
   ]
  },
  {
   "cell_type": "code",
   "execution_count": 121,
   "metadata": {},
   "outputs": [
    {
     "name": "stdout",
     "output_type": "stream",
     "text": [
      "MOEMA\n",
      "PARQUE DO CARMO\n",
      "PERDIZES\n",
      "PIRITUBA\n",
      "PONTE RASA\n",
      "SANTO AMARO\n",
      "SAO DOMINGOS\n",
      "SAO MATEUS\n",
      "SE\n",
      "VILA LEOPOLDINA\n",
      "JARDIM ANGELA\n",
      "VILA SONIA\n",
      "ANHANGUERA\n",
      "ARTUR ALVIM\n",
      "BRAS\n",
      "CACHOEIRINHA\n",
      "CAMBUCI\n",
      "CAMPO LIMPO\n",
      "CAPAO REDONDO\n",
      "CASA VERDE\n",
      "CIDADE DUTRA\n",
      "CIDADE TIRADENTES\n",
      "ERMELINO MATARAZZO\n",
      "JARDIM SAO LUIS\n",
      "SAUDE\n",
      "CURSINO\n",
      "VILA MARIANA\n",
      "RAPOSO TAVARES\n",
      "TUCURUVI\n",
      "SAO LUCAS\n",
      "SAPOPEMBA\n",
      "CAMPO BELO\n",
      "SAO MIGUEL\n",
      "RIO PEQUENO\n",
      "CARRAO\n",
      "ALTO DE PINHEIROS\n",
      "CIDADE LIDER\n",
      "VILA FORMOSA\n",
      "VILA GUILHERME\n",
      "VILA JACUI\n",
      "VILA MARIA\n",
      "VILA MATILDE\n",
      "VILA MEDEIROS\n",
      "VILA PRUDENTE\n",
      "PARELHEIROS\n",
      "AGUA RASA\n",
      "MARSILAC\n",
      "MORUMBI\n",
      "PEDREIRA\n",
      "PENHA\n",
      "PERUS\n",
      "PINHEIROS\n",
      "REPUBLICA\n",
      "SACOMA\n",
      "SANTANA\n",
      "SAO RAFAEL\n",
      "TATUAPE\n",
      "VILA ANDRADE\n",
      "VILA CURUCA\n",
      "ARICANDUVA\n",
      "GUAIANASES\n",
      "IGUATEMI\n",
      "ITAIM BIBI\n",
      "ITAIM PAULISTA\n",
      "JACANA\n",
      "JAGUARA\n",
      "JOSE BONIFACIO\n",
      "LAJEADO\n",
      "LAPA\n",
      "LIBERDADE\n",
      "LIMAO\n",
      "IPIRANGA\n",
      "CIDADE ADEMAR\n",
      "TREMEMBE\n",
      "JABAQUARA\n",
      "ITAQUERA\n",
      "MANDAQUI\n",
      "MOOCA\n",
      "PARI\n",
      "SANTA CECILIA\n",
      "SOCORRO\n",
      "BARRA FUNDA\n",
      "BELA VISTA\n",
      "BELEM\n",
      "BOM RETIRO\n",
      "BRASILANDIA\n",
      "BUTANTA\n",
      "CAMPO GRANDE\n",
      "CANGAIBA\n",
      "CONSOLACAO\n",
      "FREGUESIA DO O\n",
      "GRAJAU\n",
      "JAGUARE\n",
      "JARAGUA\n",
      "JARDIM HELENA\n",
      "JARDIM PAULISTA\n"
     ]
    }
   ],
   "source": [
    "for row, dist in df_dist.iterrows():\n",
    "    print(dist.ds_nome)\n",
    "\n",
    "    pvias = gpd.read_file(f'resultado/pre-processamentos/{dist.ds_codigo}_pre_poligono_de_vias_{dist.ds_nome.lower().replace(\" \", \"_\")}.gpkg')\n",
    "    l = df_l.clip(dist.geometry.buffer(20))\n",
    "    class_viaria = df_class.clip(dist.geometry.buffer(20))\n",
    "\n",
    "    pvias_l = pvias.sjoin(l, op='covers', how='left')[['lg_codlog', 'lg_seg_id', 'comprimento']].reset_index().groupby('index').agg(\n",
    "        {\n",
    "            'index': 'count',\n",
    "            'lg_codlog': 'first',\n",
    "            'lg_seg_id': 'first',\n",
    "            'comprimento': 'sum'\n",
    "        }\n",
    "    ).rename(columns = {'index':'contagem'})\n",
    "\n",
    "    pvias = pvias.merge(pvias_l, left_index=True, right_index=True).drop(['level_0', 'level_1'], axis=1)\n",
    "\n",
    "    pvias_class = pvias.sjoin(class_viaria, op='contains', how='left')['cvc_classe'].reset_index().groupby('index').cvc_classe.agg('max')\n",
    "\n",
    "    pvias = pvias.merge(pvias_class, left_index=True, right_index=True)\n",
    "\n",
    "    pvias.to_file(f'resultado/pre-processamentos/{dist.ds_codigo}_poligono_de_vias_logradouros_{dist.ds_nome.lower().replace(\" \", \"_\")}.gpkg', driver='GPKG')\n",
    "        \n",
    "    # break"
   ]
  },
  {
   "cell_type": "markdown",
   "metadata": {},
   "source": [
    "## Quantificando todos os distritos"
   ]
  },
  {
   "cell_type": "code",
   "execution_count": 122,
   "metadata": {},
   "outputs": [],
   "source": [
    "pvias = [] \n",
    "\n",
    "for row, dist in df_dist.iterrows():\n",
    "    p = gpd.read_file(f'resultado/pre-processamentos/{dist.ds_codigo}_poligono_de_vias_logradouros_{dist.ds_nome.lower().replace(\" \", \"_\")}.gpkg')\n",
    "    \n",
    "    p['ds_codigo'] = dist.ds_codigo\n",
    "    p['ds_nome'] = dist.ds_nome\n",
    "    p['ds_cd_sub'] = dist.ds_cd_sub\n",
    "    p['ds_subpref'] = dist.ds_subpref\n",
    "\n",
    "    pvias.append(gpd.read_file(f'resultado/pre-processamentos/{dist.ds_codigo}_poligono_de_vias_logradouros_{dist.ds_nome.lower().replace(\" \", \"_\")}.gpkg'))\n"
   ]
  },
  {
   "cell_type": "code",
   "execution_count": 123,
   "metadata": {},
   "outputs": [
    {
     "data": {
      "text/plain": [
       "96"
      ]
     },
     "execution_count": 123,
     "metadata": {},
     "output_type": "execute_result"
    }
   ],
   "source": [
    "len(pvias)"
   ]
  },
  {
   "cell_type": "code",
   "execution_count": 126,
   "metadata": {},
   "outputs": [],
   "source": [
    "df_pvias = pd.concat(pvias)"
   ]
  },
  {
   "cell_type": "code",
   "execution_count": 129,
   "metadata": {},
   "outputs": [],
   "source": [
    "gdf_pvias = gpd.GeoDataFrame(df_pvias, geometry=df_pvias.geometry, crs='EPSG:31983')"
   ]
  },
  {
   "cell_type": "code",
   "execution_count": 132,
   "metadata": {},
   "outputs": [
    {
     "data": {
      "text/plain": [
       "134817937.62937266"
      ]
     },
     "execution_count": 132,
     "metadata": {},
     "output_type": "execute_result"
    }
   ],
   "source": [
    "gdf_pvias.area.sum()"
   ]
  },
  {
   "cell_type": "code",
   "execution_count": 133,
   "metadata": {},
   "outputs": [
    {
     "data": {
      "text/plain": [
       "12859202.534101734"
      ]
     },
     "execution_count": 133,
     "metadata": {},
     "output_type": "execute_result"
    }
   ],
   "source": [
    "gdf_pvias.comprimento.sum()"
   ]
  },
  {
   "cell_type": "code",
   "execution_count": 134,
   "metadata": {},
   "outputs": [
    {
     "data": {
      "text/plain": [
       "10.484160061391414"
      ]
     },
     "execution_count": 134,
     "metadata": {},
     "output_type": "execute_result"
    }
   ],
   "source": [
    "gdf_pvias.area.sum() / gdf_pvias.comprimento.sum()"
   ]
  },
  {
   "cell_type": "code",
   "execution_count": null,
   "metadata": {},
   "outputs": [],
   "source": []
  }
 ],
 "metadata": {
  "interpreter": {
   "hash": "9cedc55b3cbf3c6d99ff990673a8ddd4523edd6f7760ad30a6f7807a45845135"
  },
  "kernelspec": {
   "display_name": "Python 3.8.12 ('geo')",
   "language": "python",
   "name": "python3"
  },
  "language_info": {
   "codemirror_mode": {
    "name": "ipython",
    "version": 3
   },
   "file_extension": ".py",
   "mimetype": "text/x-python",
   "name": "python",
   "nbconvert_exporter": "python",
   "pygments_lexer": "ipython3",
   "version": "3.8.12"
  },
  "orig_nbformat": 4
 },
 "nbformat": 4,
 "nbformat_minor": 2
}
