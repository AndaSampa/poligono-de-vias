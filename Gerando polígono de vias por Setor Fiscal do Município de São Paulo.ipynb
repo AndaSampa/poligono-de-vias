{
 "cells": [
  {
   "cell_type": "markdown",
   "metadata": {},
   "source": [
    "# Gerando polígonos de vias por setor fiscal município de São Paulo\n",
    "\n",
    "Esse notebook tem a intenção de ir um pouco além do último Notebook no sentido de avançar para um processamento viável para a publicação de uma nova camada no [Geosampa](http://geosampa.prefeitura.sp.gov.br/PaginasPublicas/_SBC.aspx) \n",
    "\n",
    "Para isso vamos utilizar as seguintes camadas, recortadas por um setor fiscal definido para testes\n",
    "\n",
    "* [Logradouros](http://geosampa.prefeitura.sp.gov.br/PaginasPublicas/downloadIfr.aspx?orig=DownloadCamadas&arq=05_Sistema%20Vi%E1rio%5C%5CLogradouro%5C%5CShapefile%5C%5CSIRGAS_SHP_logradouronbl&arqTipo=Shapefile)\n",
    "* [Quadras Fiscais](http://geosampa.prefeitura.sp.gov.br/PaginasPublicas/downloadIfr.aspx?orig=DownloadCamadas&arq=11_Cadastro%5C%5CQuadra%5C%5CShapefile%5C%5CSIRGAS_SHP_quadraMDSF&arqTipo=Shapefile)\n",
    "* [Quadras Viárias](http://geosampa.prefeitura.sp.gov.br/PaginasPublicas/downloadIfr.aspx?orig=DownloadCamadas&arq=05_Sistema%20Vi%E1rio%5C%5CQuadra%20Viaria%5C%5CShapefile%5C%5CSIRGAS_SHP_quadraviariaed&arqTipo=Shapefile)\n",
    "\n",
    "Para nossos primeiros experimentos vamos utilizar o setor fiscal de número 037:\n",
    "\n",
    "* [Setores Fiscais](http://geosampa.prefeitura.sp.gov.br/PaginasPublicas/downloadIfr.aspx?orig=DownloadCamadas&arq=11_Cadastro%5C%5CSetor%5C%5CShapefile%5C%5CSIRGAS_SHP_setorfiscal&arqTipo=Shapefile)\n",
    "\n",
    "Os arquivos baixados nos links acima devem ser descompactados e colocados na pas `gis` deste repositório para funcioarem de acordo com os scripts a seguir.\n"
   ]
  },
  {
   "cell_type": "markdown",
   "metadata": {},
   "source": [
    "## Trabalhando com o Geopandas\n",
    "\n",
    "O Geopandas é um projeto de código aberto escrito em Python, possui bastante maturidade, eficácia e performance para trabalhar com grandes quantidade de dados. Ele usa o Pandas, NumPy e Shapely para trabalhar com dados georeferenciados e portanto achamos oportuno usa-lo."
   ]
  },
  {
   "cell_type": "code",
   "execution_count": 8,
   "metadata": {
    "scrolled": false
   },
   "outputs": [
    {
     "data": {
      "image/png": "[encoded data removed]",
      "text/plain": [
       "<Figure size 1440x720 with 1 Axes>"
      ]
     },
     "metadata": {
      "needs_background": "light"
     },
     "output_type": "display_data"
    }
   ],
   "source": [
    "import geopandas as gpd\n",
    "import pandas as pd\n",
    "import matplotlib.pyplot as plt\n",
    "\n",
    "%matplotlib inline\n",
    "\n",
    "plt.rcParams['figure.figsize'] = (20, 10)\n",
    "\n",
    "# df_qf = gpd.read_file(f'gis/SIRGAS_SHP_quadraMDSF.shp')\n",
    "# df_qv = gpd.read_file(f'gis/SIRGAS_SHP_quadraviariaed_polygon.shp')\n",
    "# df_l = gpd.read_file(f'gis/SIRGAS_SHP_logradouronbl.shp')\n",
    "df_s = gpd.read_file(f'gis/SIRGAS_SHP_setorfiscal.shp')\n",
    "df_s = df_s[df_s.st_codigo == '037']\n",
    "\n",
    "f, ax = plt.subplots(1)\n",
    "df_s.plot(ax=ax, alpha=0.5)\n",
    "# df_quadras.plot(ax=ax)\n",
    "# df_logradouros.plot(ax=ax)\n",
    "\n",
    "plt.show()\n",
    "\n"
   ]
  },
  {
   "cell_type": "markdown",
   "metadata": {},
   "source": [
    "### Gerando as diferenças entre as feições do SCM com a quadra"
   ]
  },
  {
   "cell_type": "code",
   "execution_count": null,
   "metadata": {},
   "outputs": [],
   "source": [
    "df_vias = gpd.overlay(df_scm, df_quadras, how='difference')\n",
    "plt.rcParams['figure.figsize'] = (40, 40)\n",
    "df_vias.plot()"
   ]
  },
  {
   "cell_type": "markdown",
   "metadata": {},
   "source": [
    "## Definindo uma nova estratégia\n",
    "\n",
    "Como o MedialAxis não funcionou com uma quantidade essa quantidade de rings no polígono provavelmente vamos ter que descarta-lo e utilizar as próprias linhas do traçado do viário para recortar esse polígono\n",
    "\n",
    "### capturando os pontos iniciais de conexão de logradouros"
   ]
  },
  {
   "cell_type": "code",
   "execution_count": null,
   "metadata": {},
   "outputs": [],
   "source": [
    "#df_cruzamentos = gpd.GeoDataFrame.from_postgis(sql=sql_cruzamentos, con=engine)\n",
    "\n",
    "#f, ax = plt.subplots(1)\n",
    "#df_vias.plot(ax=ax, alpha=0.5)\n",
    "#df_cruzamentos.plot(ax=ax)\n",
    "#df_logradouros.plot(ax=ax)\n",
    "\n",
    "#plt.show()"
   ]
  },
  {
   "cell_type": "markdown",
   "metadata": {},
   "source": [
    "Obtendo os pontos finais e iniciais de cada logradouro podemos saber onde as ruas começam e terminam"
   ]
  },
  {
   "cell_type": "code",
   "execution_count": null,
   "metadata": {},
   "outputs": [],
   "source": [
    "gdf_cruzamentos_inicio = df_logradouros['geometry'].map(lambda x: (x.interpolate(0, normalized=True)))\n",
    "gdf_cruzamentos_final = df_logradouros['geometry'].map(lambda x: (x.interpolate(1, normalized=True)))\n",
    "gdf_cruzamentos =  pd.concat([gdf_cruzamentos_inicio, gdf_cruzamentos_final])"
   ]
  },
  {
   "cell_type": "markdown",
   "metadata": {},
   "source": [
    "Como alguns pontos acabam ficando muito próximos, seria interessante agregar todos os pontos do cruzamento."
   ]
  },
  {
   "cell_type": "code",
   "execution_count": null,
   "metadata": {},
   "outputs": [],
   "source": [
    "cruzamentos = [p.centroid for p in gdf_cruzamentos.buffer(10).unary_union]\n",
    "ds_cruzamentos = gpd.GeoSeries(cruzamentos)\n",
    "ds_cruzamentos.crs = {'init': 'epsg:31983'}"
   ]
  },
  {
   "cell_type": "markdown",
   "metadata": {},
   "source": [
    "Vamos ver o que temos até agora"
   ]
  },
  {
   "cell_type": "code",
   "execution_count": null,
   "metadata": {},
   "outputs": [],
   "source": [
    "df_cruz_buffer = gdf_cruzamentos.geometry.map(lambda x: x.buffer(10))\n",
    "\n",
    "f, ax = plt.subplots(1)\n",
    "df_vias.plot(ax=ax, alpha=0.4)\n",
    "df_logradouros.plot(ax=ax)\n",
    "df_cruz_buffer.plot(ax=ax, alpha=0.3, color='red')\n",
    "ds_cruzamentos.plot(ax=ax, lw=7, color='black')\n",
    "\n",
    "plt.show()"
   ]
  },
  {
   "cell_type": "markdown",
   "metadata": {},
   "source": [
    "## Criando linhas para 'cortar' os polígonos\n",
    "\n",
    "Agora que temos que cortar o polígono precisamos de linhas para realizar esse fatiamento. \n",
    "Primeiramente vamos criar uma intersecção dos buffers dos nós com o traçado dos logradouros"
   ]
  },
  {
   "cell_type": "code",
   "execution_count": null,
   "metadata": {},
   "outputs": [],
   "source": [
    "from shapely.geometry import Polygon, Point, MultiPoint, LineString, MultiLineString"
   ]
  },
  {
   "cell_type": "markdown",
   "metadata": {},
   "source": [
    "Porém antes vamos testar nossa estratégia em uma feição hipotética para fixar o conhecimento ..."
   ]
  },
  {
   "cell_type": "code",
   "execution_count": null,
   "metadata": {},
   "outputs": [],
   "source": [
    "%%time\n",
    "\n",
    "from shapely.ops import split\n",
    "from math import atan2, degrees\n",
    "from shapely.affinity import rotate, scale\n",
    "\n",
    "# criando um polígono de cruzamento hipotético\n",
    "poligono =  Point((0,0)).buffer(1)\n",
    "df_poligono = gpd.GeoDataFrame([0], geometry=[poligono])"
   ]
  },
  {
   "cell_type": "code",
   "execution_count": null,
   "metadata": {},
   "outputs": [],
   "source": [
    "# criando linhas de traçado viário hipotéticas\n",
    "linha1 = LineString([Point(0, 0), Point(2, 2)])\n",
    "linha2 = LineString([Point(0, 0), Point(-1, 2)])\n",
    "linha3 = LineString([Point(-0.1, -0.1), Point(1, -2)])\n",
    "df_linha = gpd.GeoDataFrame([0, 1, 2], geometry=[linha1, linha2, linha3])\n",
    "\n",
    "inter_poligono_linha = df_linha.unary_union.intersection(df_poligono.unary_union)\n",
    "df_inter_poligono_linha = gpd.GeoDataFrame([0], geometry=[inter_poligono_linha])\n",
    "\n",
    "inter_ponto_borda = df_poligono.boundary.intersection(df_linha.unary_union)\n",
    "df_inter_ponto_borda = gpd.GeoDataFrame([0], geometry=inter_ponto_borda)\n",
    "cx, cy = df_poligono.geometry.centroid.x, df_poligono.geometry.centroid.y\n",
    "angulos = [degrees(atan2(point.y - cy, point.x - cx)) for point in inter_ponto_borda[0]]\n",
    "print(angulos)\n",
    "\n",
    "\n",
    "nova_linha = [LineString([Point(0,0), point]) for point in inter_ponto_borda[0]]\n",
    "df_nova_linha = gpd.GeoDataFrame(list(range(len(nova_linha))), geometry=nova_linha)\n",
    "df_nova_linha.columns = ['index', 'geometry']\n",
    "df_nova_linha['geometry'] = df_nova_linha['geometry'].scale(xfact=1.5, yfact=1.5, origin=(0,0))\n",
    "\n",
    "\n",
    "#rotacionar o poligono para que o ponto inicial coincida com algum segmento\n",
    "poligono = rotate(poligono, angulos[0], origin=(cx, cy))\n",
    "fatiado = split(poligono.boundary, df_nova_linha.unary_union)\n",
    "fatias = [fatia for fatia in fatiado]\n",
    "df_fatiado = gpd.GeoDataFrame(list(range(len(fatias))), geometry=fatias)\n",
    "df_fatiado.columns = ['index', 'geometry']\n",
    "\n",
    "\n",
    "ponto_medio = [fatia.interpolate(0.5, normalized=True) for fatia in fatiado]\n",
    "df_ponto_medio = gpd.GeoDataFrame(list(range(len(ponto_medio))), geometry=ponto_medio)\n",
    "df_ponto_medio.columns = ['index', 'geometry']\n"
   ]
  },
  {
   "cell_type": "code",
   "execution_count": null,
   "metadata": {},
   "outputs": [],
   "source": [
    "f, ax = plt.subplots(1)\n",
    "\n",
    "df_poligono.plot(ax=ax, alpha=0.5)\n",
    "df_linha.plot(ax=ax, color='red')\n",
    "df_inter_poligono_linha.plot(ax=ax, color='black', alpha=0.5, linewidth=8)\n",
    "df_inter_ponto_borda.plot(ax=ax, color='green', alpha=0.8, linewidth=12)\n",
    "df_fatiado.plot(ax=ax, column='index', lw=3, cmap='Paired', alpha=0.8, linewidth=10)\n",
    "df_nova_linha.plot(ax=ax)\n",
    "df_ponto_medio.plot(ax=ax, color='orange', alpha=0.9, linewidth=14)\n",
    "\n",
    "plt.show()"
   ]
  },
  {
   "cell_type": "markdown",
   "metadata": {},
   "source": [
    "## Agora voltando a trabalhar nas feições\n",
    "\n",
    "Agora que conseguimos realizar a estratégia de traçar um buffer ao redor do cruzamento e então gerar linhas nas bissetrizes do traçado do viário podemos repetir o mesmo nas nossas feições.\n",
    "Relembrando o que temos até aqui:"
   ]
  },
  {
   "cell_type": "code",
   "execution_count": null,
   "metadata": {},
   "outputs": [],
   "source": [
    "df_vias # nosso polígono de vias, totalmente unido\n",
    "df_nos = gpd.GeoDataFrame(list(range(len(ds_cruzamentos))), geometry=ds_cruzamentos.buffer(10)) # os nós que vão nos balizar para fatiar o polígono de vias\n",
    "df_nos.columns = ['index', 'geometry']\n",
    "df_logradouros # o tracado dos logradouros\n",
    "\n",
    "f, ax = plt.subplots(1)\n",
    "\n",
    "# Aplicando o zoom\n",
    "plt.margins(x=-0.30, y=-0.40)\n",
    "\n",
    "df_vias.plot(ax=ax, alpha=0.5)\n",
    "#df_cruzamentos.plot(ax=ax)\n",
    "df_logradouros.plot(ax=ax)\n",
    "df_nos.plot(ax=ax, alpha=0.5, color='red')\n",
    "\n",
    "plt.show()"
   ]
  },
  {
   "cell_type": "markdown",
   "metadata": {},
   "source": [
    "Vamos relacionar os logradouros que intersectcam cada um dos nós"
   ]
  },
  {
   "cell_type": "code",
   "execution_count": null,
   "metadata": {},
   "outputs": [],
   "source": [
    "%%time\n",
    "\n",
    "# importando a biblioteca pandas para poder concatenar\n",
    "import pandas as pd\n",
    "\n",
    "#df_nos.crs = {'init': 'epsg:31983'}\n",
    "# relacionando as tabelas\n",
    "df_logradouros_nos = gpd.sjoin(df_logradouros, df_nos, how='left', op='intersects')\n",
    "\n",
    "# dissolvendo as feições podemos ter uma feição de multiString por nó o que vai facilitar nos processamentos\n",
    "# isolando apenas a coluna de geometria e modificando o nome dela já pensando em concatena-la\n",
    "df_nos_logradouros = df_logradouros_nos.dissolve(by='index').iloc[:, 0:1]\n",
    "\n",
    "# gerando a intersecção de pontos nas bordas dos polígonos de nós\n",
    "inter_linha = [df_nos.iloc[i].geometry.intersection(f['geometry']) for i, f in df_nos_logradouros.iterrows()]\n",
    "df_inter_linha = gpd.GeoDataFrame(df_nos_logradouros.index, geometry=inter_linha)\n",
    "\n",
    "# gerando ponto na borda\n",
    "inter_ponto_borda = [f['geometry'].intersection(df_nos.iloc[i].geometry.boundary) for i, f in df_nos_logradouros.iterrows()]\n",
    "df_inter_ponto_borda = gpd.GeoDataFrame(df_nos_logradouros.index, geometry=inter_ponto_borda)\n",
    "\n",
    "# definindo o ponto para rotacionar o nó de cruzamento para o ponto inicial dele coincidir com um ponto da circunferência\n",
    "df_ponto_para_rotacionar = df_inter_ponto_borda.geometry.apply(lambda x: x if type(x) == type(Point(0,0)) else x[0])\n",
    "\n",
    "# calculando o angulo para girar a feição do nó e fazer coincidir o ponto final com algum ponto de fragmanetação\n",
    "angulos = [degrees(atan2(df_ponto_para_rotacionar.iloc[i].y - f.geometry.centroid.y, \\\n",
    "                         df_ponto_para_rotacionar.iloc[i].x - f.geometry.centroid.x)) \\\n",
    "                         for i, f in df_nos.iterrows()]\n",
    "\n",
    "# rotacionando o nó de cruzamento\n",
    "#df_nos['geometry'] = [rotate(f['geometry'], angulos[i], origin=f['geometry'].centroid.coords[0]) for i, f in df_nos.iterrows()]\n",
    "df_nos['geometry_rotated'] = [rotate(f['geometry'], angulos[i]) for i, f in df_nos.iterrows()]\n",
    "\n",
    "# cortando a borda do nó de cruzamento com as linhas de viário\n",
    "no_bordas = [split(f['geometry_rotated'].boundary, df_nos_logradouros.iloc[i].geometry) for i, f in df_nos.iterrows()]\n",
    "df_no_bordas = gpd.GeoDataFrame(df_nos_logradouros.index, geometry=no_bordas)\n",
    "\n",
    "#separando cada string em uma linha indexada pelo nó\n",
    "df_fatias = df_no_bordas.geometry.apply(pd.Series) \\\n",
    "    .merge(df_no_bordas, right_index = True, left_index = True) \\\n",
    "    .drop([\"geometry\"], axis = 1) \\\n",
    "    .melt(id_vars = ['index'], value_name = \"geometry\")\n",
    "gdf_fatias = gpd.GeoDataFrame(df_fatias['index'], geometry=df_fatias['geometry'])\n",
    "gdf_fatias = gdf_fatias.dropna()\n",
    "\n",
    "#gerando colunas aleatórias para servir de base para a cor na plotagem do mapa\n",
    "import random\n",
    "gdf_fatias['rnd'] = random.sample(range(len(gdf_fatias)), len(gdf_fatias))\n",
    "\n",
    "#gerando o ponto médio na geometria\n",
    "gdf_fatias_validas = gdf_fatias.geometry.length > 0.10\n",
    "gdf_fatias = gdf_fatias[gdf_fatias_validas]\n",
    "ponto_medio = [r.geometry.interpolate(0.5, normalized=True) for i, r in gdf_fatias.iterrows()]\n",
    "df_ponto_medio = gpd.GeoDataFrame(gdf_fatias['index'], geometry=ponto_medio)\n",
    "df_ponto_medio.columns = ['index', 'geometry']\n",
    "\n",
    "# gerando as linhas de corte a partir do centroide do nó de cruzamento central\n",
    "linhas_de_corte = [scale(LineString([df_nos.iloc[f['index']].geometry.centroid, f.geometry]), xfact=5, yfact=5, origin=df_nos.iloc[f['index']].geometry.centroid) for i, f in df_ponto_medio.iterrows()]\n",
    "df_linhas_de_corte = gpd.GeoDataFrame(df_ponto_medio['index'], geometry=linhas_de_corte)\n",
    "df_linhas_de_corte.columns = ['index', 'geometry']\n",
    "\n",
    "## TODO\n",
    "# Limpar as rebarbas da geometria de linhas de corte, aparando-as\n",
    "\n",
    "f, ax = plt.subplots(1)\n",
    "\n",
    "# Aplicando o zoom\n",
    "plt.margins(x=-0.30, y=-0.40)\n",
    "\n",
    "df_vias.plot(ax=ax, alpha=0.5)\n",
    "df_nos_logradouros.plot(ax=ax)\n",
    "df_nos.plot(ax=ax, alpha=0.5, color='red')\n",
    "gdf_fatias.plot(ax=ax, column='rnd', lw=9, cmap='Paired', alpha=0.8)\n",
    "df_ponto_medio.plot(ax=ax, color='black', lw=12, alpha=1)\n",
    "df_linhas_de_corte.plot(ax=ax)\n",
    "\n",
    "plt.show()\n",
    "\n"
   ]
  },
  {
   "cell_type": "markdown",
   "metadata": {},
   "source": [
    "## Cortando um polígono com MultiStrings\n",
    "\n",
    "O Shapely tem uma restrição para cortar Polígonos com MultiLines, portanto vamos ter que trabalhar apenas com Linhas e a partir delas criar polígonos com o Poligonize"
   ]
  },
  {
   "cell_type": "code",
   "execution_count": null,
   "metadata": {},
   "outputs": [],
   "source": [
    "## TODO\n",
    "# Uma possível tentativa seria de usar shapely.ops.polygonize_full(lines)\n",
    "\n",
    "from shapely.ops import polygonize\n",
    "\n",
    "bordas_vias = df_vias['geometry'].boundary\n",
    "df_bordas_vias = gpd.GeoDataFrame([0], geometry=bordas_vias)\n",
    "bordas_vias_poligono = polygonize(df_bordas_vias['geometry'])\n",
    "\n",
    "df_bordas_vias_poligonos = gpd.GeoDataFrame(geometry=list(bordas_vias_poligono))\n",
    "#df_bordas_vias_poligonos.plot()"
   ]
  },
  {
   "cell_type": "code",
   "execution_count": null,
   "metadata": {},
   "outputs": [],
   "source": [
    "from shapely.ops import cascaded_union\n",
    "bordas_vias_poligono = polygonize(cascaded_union([df_linhas_de_corte.geometry.unary_union, df_vias['geometry'].boundary[0]]))\n",
    "df_bordas_vias_poligonos = gpd.GeoDataFrame(geometry=list(bordas_vias_poligono))\n",
    "df_bordas_vias_poligonos['rnd'] = random.sample(range(len(df_bordas_vias_poligonos)), len(df_bordas_vias_poligonos))\n",
    "df_bordas_vias_poligonos.plot(column='rnd')\n"
   ]
  },
  {
   "cell_type": "markdown",
   "metadata": {},
   "source": [
    "## Aparando as arestas\n",
    "\n",
    "Como pudemos perceber o Poligonize acaba criando um polígono para qualquer área que tenha uma String circular. Uma boa etratégia seria:\n",
    "- aparar as arestas das linhas \n",
    "- cortar o polígono de vias\n",
    "- remover os polígonos das quadras\n",
    "- plotar o resultado"
   ]
  },
  {
   "cell_type": "code",
   "execution_count": null,
   "metadata": {},
   "outputs": [],
   "source": [
    "%%time\n",
    "\n",
    "# aparando as arestas das linhas de corte\n",
    "linhas_de_corte_aparadas = [split(f.geometry, cascaded_union(df_quadras.buffer(-1).geometry.boundary)) \\\n",
    "                           for i, f in df_linhas_de_corte.iterrows()]\n",
    "linhas_de_corte_aparadas = [i[0] for i in linhas_de_corte_aparadas]\n",
    "gdf_linhas_de_corte_aparadas = gpd.GeoDataFrame(geometry=linhas_de_corte_aparadas)\n",
    "\n",
    "df_quadra_representative = gpd.GeoDataFrame(geometry=df_quadras.geometry.representative_point().geometry)\n",
    "\n",
    "f, ax = plt.subplots(1)\n",
    "\n",
    "# Aplicando o zoom\n",
    "plt.margins(x=-0.30, y=-0.40)\n",
    "\n",
    "df_vias.plot(ax=ax, alpha=0.5)\n",
    "df_nos_logradouros.plot(ax=ax)\n",
    "df_nos.plot(ax=ax, alpha=0.5, color='red')\n",
    "gdf_fatias.plot(ax=ax, column='rnd', lw=9, cmap='Paired', alpha=0.8)\n",
    "gdf_linhas_de_corte_aparadas.plot(ax=ax, color='black', lw=12, alpha=1)\n",
    "df_quadra_representative.plot(ax=ax, color='black', lw=12, alpha=1)\n",
    "\n",
    "plt.show()\n"
   ]
  },
  {
   "cell_type": "code",
   "execution_count": null,
   "metadata": {},
   "outputs": [],
   "source": [
    "# cortando as quadras\n",
    "bordas_vias_poligono = polygonize(cascaded_union([gdf_linhas_de_corte_aparadas.geometry.unary_union, df_vias['geometry'].boundary[0]]))\n",
    "df_bordas_vias_poligonos = gpd.GeoDataFrame(geometry=list(bordas_vias_poligono))\n",
    "\n",
    "# removendo o polígono das quadras\n",
    "df_bordas_vias_poligonos[df_bordas_vias_poligonos.geometry.disjoint(df_quadra_representative.geometry.unary_union)]\n",
    "\n",
    "# plotando\n",
    "df_bordas_vias_poligonos['rnd'] = random.sample(range(len(df_bordas_vias_poligonos)), len(df_bordas_vias_poligonos))\n",
    "df_bordas_vias_poligonos[df_bordas_vias_poligonos.geometry.disjoint(df_quadra_representative.geometry.unary_union)].plot(column='rnd')\n"
   ]
  },
  {
   "cell_type": "code",
   "execution_count": null,
   "metadata": {},
   "outputs": [],
   "source": []
  },
  {
   "cell_type": "markdown",
   "metadata": {},
   "source": [
    "## Salvando o resultado\n",
    "\n",
    "Agora que temos o polígono de cada via, podemos salvar o resultado para seguir com alguma outra análise como:\n",
    "- Calcular a largura mínima máxima e média de cada via"
   ]
  }
 ],
 "metadata": {
  "kernelspec": {
   "display_name": "Python 3",
   "language": "python",
   "name": "python3"
  },
  "language_info": {
   "codemirror_mode": {
    "name": "ipython",
    "version": 3
   },
   "file_extension": ".py",
   "mimetype": "text/x-python",
   "name": "python",
   "nbconvert_exporter": "python",
   "pygments_lexer": "ipython3",
   "version": "3.8.2"
  }
 },
 "nbformat": 4,
 "nbformat_minor": 2
}
