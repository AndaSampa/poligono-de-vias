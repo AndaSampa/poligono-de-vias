{
 "cells": [
  {
   "cell_type": "code",
   "execution_count": 18,
   "metadata": {},
   "outputs": [],
   "source": [
    "from shapely.geometry import MultiPoint, LineString, MultiLineString, Point\n",
    "from shapely.geometry import polygon \n",
    "from shapely.ops import nearest_points, linemerge\n",
    "import numpy as np\n",
    "# from libpysal.cg.voronoi import voronoi, voronoi_frames\n",
    "import geopandas as gpd\n",
    "import pandas as pd\n",
    "import matplotlib.pyplot as plt\n",
    "from shapely.ops import unary_union, polygonize, cascaded_union, split, polygonize_full, snap\n",
    "from shapely import affinity\n",
    "from datetime import datetime\n",
    "from os.path import exists\n",
    "import pygeos as pg\n",
    "import os\n",
    "import math"
   ]
  },
  {
   "cell_type": "code",
   "execution_count": 2,
   "metadata": {},
   "outputs": [],
   "source": [
    "df_qv = gpd.read_file('gis/SIRGAS_GPKG_quadraviariaed_2017.gpkg')\n",
    "df_l = gpd.read_file(f'zip://gis/SIRGAS_SHP_logradouronbl.zip!SIRGAS_SHP_logradouronbl/SIRGAS_SHP_logradouronbl.shp')"
   ]
  },
  {
   "cell_type": "code",
   "execution_count": 3,
   "metadata": {},
   "outputs": [],
   "source": [
    "df_dist = gpd.read_file(f'zip://gis/SIRGAS_SHP_distrito.zip!SIRGAS_SHP_distrito/SIRGAS_SHP_distrito_polygon.shp')\n",
    "df_represas = gpd.read_file(f'zip://gis/SIRGAS_SHP_represanivelmax.zip!SIRGAS_SHP_represanivelmax').set_crs(epsg=31983)\n",
    "df_massa_dagua = gpd.read_file(f'zip://gis/SIRGAS_SHP_hidrogramassadagua.zip!SIRGAS_SHP_hidromassadagua/SIRGAS_SHP_hidromassadagua_polygon.shp').set_crs(epsg=31983)"
   ]
  },
  {
   "cell_type": "code",
   "execution_count": 4,
   "metadata": {},
   "outputs": [],
   "source": [
    "df_cruzamentos = gpd.read_file(f'resultado/pre-processamentos/00_cruzamentos_cidade_sao_paulo.gpkg')"
   ]
  },
  {
   "cell_type": "code",
   "execution_count": 26,
   "metadata": {},
   "outputs": [
    {
     "name": "stdout",
     "output_type": "stream",
     "text": [
      "Processando meio-fio de MOEMA\n",
      "Processando meio-fio de PARQUE DO CARMO\n",
      "Processando meio-fio de PERDIZES\n",
      "Processando meio-fio de PIRITUBA\n",
      "Processando meio-fio de PONTE RASA\n",
      "Processando meio-fio de SANTO AMARO\n",
      "Processando meio-fio de SAO DOMINGOS\n",
      "Processando meio-fio de SAO MATEUS\n",
      "Processando meio-fio de SE\n",
      "Processando meio-fio de VILA LEOPOLDINA\n",
      "Processando meio-fio de JARDIM ANGELA\n",
      "Processando meio-fio de VILA SONIA\n",
      "Processando meio-fio de ANHANGUERA\n",
      "Processando meio-fio de ARTUR ALVIM\n",
      "Processando meio-fio de BRAS\n",
      "Processando meio-fio de CACHOEIRINHA\n",
      "Processando meio-fio de CAMBUCI\n",
      "Processando meio-fio de CAMPO LIMPO\n",
      "Processando meio-fio de CAPAO REDONDO\n",
      "Processando meio-fio de CASA VERDE\n",
      "Processando meio-fio de CIDADE DUTRA\n",
      "Processando meio-fio de CIDADE TIRADENTES\n",
      "Processando meio-fio de ERMELINO MATARAZZO\n",
      "Processando meio-fio de JARDIM SAO LUIS\n",
      "Processando meio-fio de SAUDE\n",
      "Processando meio-fio de CURSINO\n",
      "Processando meio-fio de VILA MARIANA\n"
     ]
    },
    {
     "name": "stderr",
     "output_type": "stream",
     "text": [
      "/tmp/ipykernel_179821/1557577934.py:23: FutureWarning: Currently, index_parts defaults to True, but in the future, it will default to False to be consistent with Pandas. Use `index_parts=True` to keep the current behavior and True/False to silence the warning.\n",
      "  qv_boundary = gpd.GeoDataFrame(geometry=[polygon.orient(g) for g in qv.explode().geometry]).boundary.unary_union\n",
      "/home/feromes/miniconda3/envs/geo/lib/python3.8/site-packages/geopandas/io/file.py:362: FutureWarning: pandas.Int64Index is deprecated and will be removed from pandas in a future version. Use pandas.Index with the appropriate dtype instead.\n",
      "  pd.Int64Index,\n"
     ]
    }
   ],
   "source": [
    "for id, dist in df_dist.iterrows():\n",
    "\n",
    "    print(f'Processando meio-fio de {dist.ds_nome}')\n",
    "    if exists(f'resultado/pre-processamentos/{dist.ds_codigo}_meio-fio_{dist.ds_nome}.gpkg'):\n",
    "        continue\n",
    "\n",
    "    qv = df_qv.loc[df_qv.qe_tipo == 'Quadra'].clip(dist.geometry)\n",
    "    qv = gpd.GeoDataFrame(geometry=qv.buffer(0.001))\n",
    "\n",
    "    l = df_l.clip(dist.geometry.buffer(20))\n",
    "\n",
    "    cruzamentos = df_cruzamentos.clip(dist.geometry.buffer(20))\n",
    "\n",
    "    cruzamentos_buffer = gpd.GeoDataFrame(geometry=cruzamentos.buffer(35)).set_crs(epsg=31983)\n",
    "\n",
    "    esquinas = qv.overlay(cruzamentos_buffer.dissolve(), how='intersection').explode(index_parts=False).reset_index()\n",
    "\n",
    "    pontos_corte = \\\n",
    "    [nearest_points(cruzamentos.loc[i].geometry, esquinas.loc[r.index_right, 'geometry'])[-1] \n",
    "    for i, r in cruzamentos_buffer.sjoin(esquinas, how='left', predicate='intersects').iterrows() \n",
    "    if not math.isnan(r.index_right)]\n",
    "\n",
    "    qv_boundary = gpd.GeoDataFrame(geometry=[polygon.orient(g) for g in qv.explode().geometry]).boundary.unary_union\n",
    "\n",
    "    linhas_preparadas = split(qv_boundary, snap(MultiPoint(pontos_corte), qv_boundary, 0.10).buffer(0.001))\n",
    "\n",
    "    geometrias = [i for i in linhas_preparadas]\n",
    "\n",
    "    meios_fios = gpd.GeoDataFrame(geometry=geometrias)\n",
    "\n",
    "    meio_fio_ponto_medio = gpd.GeoDataFrame(meios_fios.copy(), geometry=[l.interpolate(0.5, normalized=True) for l in meios_fios.geometry]).sjoin_nearest(l, how='left').drop_duplicates()\n",
    "\n",
    "    meios_fios.loc[meio_fio_ponto_medio['lg_codlog'].index, 'lg_codlog'] = meio_fio_ponto_medio['lg_codlog']\n",
    "    meios_fios.loc[meio_fio_ponto_medio['lg_seg_id'].index, 'lg_seg_id'] = meio_fio_ponto_medio['lg_seg_id']\n",
    "    meios_fios.loc[meio_fio_ponto_medio.index, 'lado_esquerdo'] = [r.geometry.intersects(l.loc[r.index_right].geometry.buffer(35, single_sided=True)) for i, r in meio_fio_ponto_medio.iterrows()]\n",
    "\n",
    "    meios_fios = meios_fios.dissolve(by=['lg_codlog', 'lg_seg_id', 'lado_esquerdo']).reset_index()\n",
    "\n",
    "    meios_fios.to_file(f'resultado/pre-processamentos/{dist.ds_codigo}_meio-fio_{dist.ds_nome}.gpkg', \n",
    "                        driver='GPKG', crs=31983)\n",
    "\n",
    "    break"
   ]
  },
  {
   "cell_type": "code",
   "execution_count": null,
   "metadata": {},
   "outputs": [],
   "source": []
  }
 ],
 "metadata": {
  "interpreter": {
   "hash": "9cedc55b3cbf3c6d99ff990673a8ddd4523edd6f7760ad30a6f7807a45845135"
  },
  "kernelspec": {
   "display_name": "Python 3.8.12 ('geo')",
   "language": "python",
   "name": "python3"
  },
  "language_info": {
   "codemirror_mode": {
    "name": "ipython",
    "version": 3
   },
   "file_extension": ".py",
   "mimetype": "text/x-python",
   "name": "python",
   "nbconvert_exporter": "python",
   "pygments_lexer": "ipython3",
   "version": "3.8.12"
  },
  "orig_nbformat": 4
 },
 "nbformat": 4,
 "nbformat_minor": 2
}
