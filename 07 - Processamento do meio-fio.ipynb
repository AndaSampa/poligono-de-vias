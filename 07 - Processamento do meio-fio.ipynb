{
 "cells": [
  {
   "cell_type": "code",
   "execution_count": 26,
   "metadata": {},
   "outputs": [],
   "source": [
    "from shapely.geometry import MultiPoint, LineString, MultiLineString, Point\n",
    "from shapely.ops import nearest_points, linemerge\n",
    "import numpy as np\n",
    "# from libpysal.cg.voronoi import voronoi, voronoi_frames\n",
    "import geopandas as gpd\n",
    "import pandas as pd\n",
    "import matplotlib.pyplot as plt\n",
    "from shapely.ops import unary_union, polygonize, cascaded_union, split, polygonize_full\n",
    "from shapely import affinity\n",
    "from datetime import datetime\n",
    "from os.path import exists\n",
    "import pygeos as pg\n",
    "import os"
   ]
  },
  {
   "cell_type": "code",
   "execution_count": 27,
   "metadata": {},
   "outputs": [],
   "source": [
    "df_qv = gpd.read_file('gis/SIRGAS_GPKG_quadraviariaed_2017.gpkg')\n",
    "df_l = gpd.read_file(f'zip://gis/SIRGAS_SHP_logradouronbl.zip!SIRGAS_SHP_logradouronbl/SIRGAS_SHP_logradouronbl.shp')"
   ]
  },
  {
   "cell_type": "code",
   "execution_count": 28,
   "metadata": {},
   "outputs": [],
   "source": [
    "df_dist = gpd.read_file(f'zip://gis/SIRGAS_SHP_distrito.zip!SIRGAS_SHP_distrito/SIRGAS_SHP_distrito_polygon.shp')\n",
    "df_represas = gpd.read_file(f'zip://gis/SIRGAS_SHP_represanivelmax.zip!SIRGAS_SHP_represanivelmax').set_crs(epsg=31983)\n",
    "df_massa_dagua = gpd.read_file(f'zip://gis/SIRGAS_SHP_hidrogramassadagua.zip!SIRGAS_SHP_hidromassadagua/SIRGAS_SHP_hidromassadagua_polygon.shp').set_crs(epsg=31983)"
   ]
  },
  {
   "cell_type": "code",
   "execution_count": 29,
   "metadata": {},
   "outputs": [],
   "source": [
    "df_cruzamentos = gpd.read_file(f'resultado/pre-processamentos/00_cruzamentos_cidade_sao_paulo.gpkg')"
   ]
  },
  {
   "cell_type": "code",
   "execution_count": 221,
   "metadata": {},
   "outputs": [
    {
     "name": "stdout",
     "output_type": "stream",
     "text": [
      "Processando meio-fio de MOEMA\n",
      "Processando meio-fio de PARQUE DO CARMO\n"
     ]
    }
   ],
   "source": [
    "for id, dist in df_dist.iterrows():\n",
    "\n",
    "    print(f'Processando meio-fio de {dist.ds_nome}')\n",
    "    if exists(f'resultado/pre-processamentos/{dist.ds_codigo}_meio-fio_{dist.ds_nome}.gpkg'):\n",
    "        continue\n",
    "\n",
    "    qv = df_qv.loc[df_qv.qe_tipo == 'Quadra'].clip(dist.geometry)\n",
    "    qv = gpd.GeoDataFrame(geometry=qv.buffer(0.001))\n",
    "    l = df_l.clip(dist.geometry.buffer(20))\n",
    "    # l = gpd.GeoDataFrame(geometry=l)\n",
    "\n",
    "    cruzamentos = df_cruzamentos.clip(dist.geometry)\n",
    "    cruzamentos_buffer = gpd.GeoDataFrame(geometry=cruzamentos.buffer(35)).set_crs(epsg=31983)\n",
    "    \n",
    "    esquinas = qv.overlay(cruzamentos_buffer, how='intersection').explode(index_parts=False).reset_index()\n",
    "    # esquinas = gpd.GeoDataFrame(geometry=[esquinas]).explode(index_parts=True).reset_index()\n",
    "\n",
    "    cruzamento_esquina = gpd.sjoin(esquinas, cruzamentos_buffer, how='left', predicate='intersects').reset_index()\n",
    "    # cruzamento_esquina = cruzamento_esquina[~cruzamento_esquina.index_right.isna()]\n",
    "\n",
    "    linhas_corte = MultiLineString([LineString(nearest_points(r.geometry, cruzamentos.loc[r.index_right].geometry)) \n",
    "                            for i, r in cruzamento_esquina.iterrows()])\n",
    "\n",
    "    round = np.vectorize(lambda geom: pg.apply(geom, lambda g: g.round(3)))\n",
    "\n",
    "    linhas_corte = gpd.GeoDataFrame(geometry=round(gpd.GeoDataFrame(geometry=[linhas_corte]).geometry.values.data)).geometry\n",
    "    qv_boundary = qv.boundary.unary_union\n",
    "\n",
    "    linhas_unidas = qv_boundary.union(linhas_corte.unary_union)\n",
    "    geometrias = [i for i in linemerge(linhas_unidas)]\n",
    "\n",
    "    vias_union = dist.geometry.difference(qv.buffer(0.30).unary_union)\n",
    "    qv_union = gpd.GeoDataFrame(geometry=qv.buffer(-0.30)).unary_union\n",
    "\n",
    "    meios_fios = gpd.GeoDataFrame(geometry=geometrias, crs=31983)\n",
    "\n",
    "    meio_fio_ponto_medio = gpd.GeoDataFrame(meios_fios.copy(), geometry=[l.interpolate(0.5, normalized=True) for l in meios_fios.geometry]).sjoin_nearest(l, how='left').drop_duplicates()\n",
    "\n",
    "    meios_fios.loc[meio_fio_ponto_medio['lg_codlog'].index, 'lg_codlog'] = meio_fio_ponto_medio['lg_codlog']\n",
    "    meios_fios.loc[meio_fio_ponto_medio['lg_seg_id'].index, 'lg_seg_id'] = meio_fio_ponto_medio['lg_seg_id']\n",
    "    meios_fios.loc[meio_fio_ponto_medio.index, 'lado_par'] = [r.geometry.intersects(l.loc[r.index_right].geometry.buffer(35, single_sided=True)) for i, r in meio_fio_ponto_medio.iterrows()]\n",
    "\n",
    "    meios_fios = meios_fios.dissolve(by=['lg_codlog', 'lg_seg_id', 'lado_par']).reset_index()\n",
    "\n",
    "    meios_fios = meios_fios.explode(index_parts=False).reset_index()\n",
    "    meios_fios = meios_fios[~meios_fios.intersects(vias_union)]\n",
    "    meios_fios = meios_fios[~meios_fios.intersects(qv_union)]\n",
    "\n",
    "    meios_fios = meios_fios.dissolve(by=['lg_codlog', 'lg_seg_id', 'lado_par']).reset_index()\n",
    "\n",
    "    meios_fios.to_file(f'resultado/pre-processamentos/{dist.ds_codigo}_meio-fio_{dist.ds_nome}.gpkg', \n",
    "                        driver='GPKG', crs=31983)\n",
    "\n",
    "    break"
   ]
  },
  {
   "cell_type": "code",
   "execution_count": null,
   "metadata": {},
   "outputs": [],
   "source": []
  }
 ],
 "metadata": {
  "interpreter": {
   "hash": "9cedc55b3cbf3c6d99ff990673a8ddd4523edd6f7760ad30a6f7807a45845135"
  },
  "kernelspec": {
   "display_name": "Python 3.8.12 ('geo')",
   "language": "python",
   "name": "python3"
  },
  "language_info": {
   "codemirror_mode": {
    "name": "ipython",
    "version": 3
   },
   "file_extension": ".py",
   "mimetype": "text/x-python",
   "name": "python",
   "nbconvert_exporter": "python",
   "pygments_lexer": "ipython3",
   "version": "3.8.12"
  },
  "orig_nbformat": 4
 },
 "nbformat": 4,
 "nbformat_minor": 2
}
